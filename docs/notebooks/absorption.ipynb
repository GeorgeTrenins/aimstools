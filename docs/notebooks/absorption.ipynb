{
 "metadata": {
  "language_info": {
   "codemirror_mode": {
    "name": "ipython",
    "version": 3
   },
   "file_extension": ".py",
   "mimetype": "text/x-python",
   "name": "python",
   "nbconvert_exporter": "python",
   "pygments_lexer": "ipython3",
   "version": "3.8.5-final"
  },
  "orig_nbformat": 2,
  "kernelspec": {
   "name": "python3",
   "display_name": "Python 3",
   "language": "python"
  }
 },
 "nbformat": 4,
 "nbformat_minor": 2,
 "cells": [
  {
   "cell_type": "code",
   "execution_count": null,
   "metadata": {},
   "outputs": [],
   "source": [
    "%matplotlib inline\n",
    "# these two lines are only necessary to make the jupyter notebooks run on binder\n",
    "import sys\n",
    "sys.path.insert(0, \"../..\")\n",
    "\n",
    "# We load the AbsorptionSpectrum class from aimstools\n",
    "from aimstools.dielectric_function import AbsorptionSpectrum as ABS\n",
    "from aimstools.preparation.utilities import monkhorstpack2kptdensity as m2d\n",
    "\n",
    "# We load all tests in the directory \"absorption\" to check k-point convergence and omega convergence\n",
    "from pathlib import Path\n",
    "k_tests = list(Path().cwd().joinpath(\"absorption_spectrum/k_test\").glob(\"k*\"))\n",
    "omega_tests = list(Path().cwd().joinpath(\"absorption_spectrum/omega_test\").glob(\"omega*\"))\n",
    "\n",
    "# we initialize the AbsorptionSpectrum class for the k-tests\n",
    "k_test = [ABS(i) for i in k_tests]\n",
    "# we sort them by increasing k point densities\n",
    "k_densities = sorted([m2d(j.structure, j.control.k_grid) for j in k_test])\n",
    "k_test = [j[0] for j in (sorted(zip(k_test, k_densities), key=lambda x: x[1]))]\n",
    "\n",
    "# we initialize the AbsorptionSpectrum class for the omega-tests\n",
    "o_test = [ABS(i) for i in omega_tests]\n",
    "# we sort them by increasing increasing omega value\n",
    "omegas = sorted([int(str(j.parts[-1]).split(\"_\")[1]) for j in omega_tests])\n",
    "o_test = [j[0] for j in (sorted(zip(o_test, omegas), key=lambda x: x[1]))]\n",
    "\n",
    "import matplotlib.pyplot as plt \n",
    "import numpy as np\n",
    "\n",
    "cmap = plt.cm.get_cmap(\"tab20_r\")\n",
    "colors = [cmap(c) for c in np.linspace(0, 1, len(k_test))]\n",
    "\n",
    "fig, axes = plt.subplots(1,2,figsize=(12,6))\n",
    "for i, n in enumerate(k_test):\n",
    "    n.plot(axes=axes[0], color=colors[i], component=\"total\", label=str(k_densities[i]), alpha=0.8)\n",
    "for i, m in enumerate(o_test):\n",
    "    m.plot(axes=axes[1], color=colors[i], component=\"total\", label=str(omegas[i]), alpha=0.8)\n",
    "axes[0].set_xlim(600, 300)\n",
    "axes[1].set_xlim(600, 300)\n",
    "axes[0].set_title(r\"$k$-point density dependency\")\n",
    "axes[1].set_title(r\"$\\omega_{max}$ dependency\")\n",
    "plt.show()\n",
    "\n",
    "# As yo can see, the dependency on the k-point density is very large and needs to be checked carefully.\n",
    "# Even for semiconductors, it seems like one needs 15-20 points/Angström.\n",
    "# Regarding omega, positive values above zero in the range of 5-15 seem fine, depending on the cost of the calculation and the band structure."
   ]
  },
  {
   "cell_type": "code",
   "execution_count": null,
   "metadata": {},
   "outputs": [],
   "source": []
  }
 ]
}