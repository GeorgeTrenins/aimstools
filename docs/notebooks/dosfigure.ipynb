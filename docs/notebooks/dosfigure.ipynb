{
 "cells": [
  {
   "cell_type": "markdown",
   "metadata": {},
   "source": [
    "# Plotting DOS Projections"
   ]
  },
  {
   "cell_type": "code",
   "execution_count": null,
   "metadata": {},
   "outputs": [],
   "source": [
    "%matplotlib inline\n",
    "# these two lines are only necessary to make the jupyter notebooks run on binder\n",
    "import sys\n",
    "sys.path.insert(0, \"../..\")\n",
    "\n",
    "# we load the necessary modules\n",
    "from aimstools.density_of_states import SpeciesProjectedDOS\n",
    "import matplotlib.pyplot as plt\n",
    "from matplotlib.lines import Line2D\n",
    "from matplotlib import gridspec\n",
    "\n",
    "# we initialize the SpeciesProjectedDOS class with spin-orbit coupling from the directory\n",
    "spd = SpeciesProjectedDOS(\"dos_projections/\", soc=True)\n",
    "\n",
    "# the contributions of all species are stored in the spectrum attribute and can easily be added\n",
    "pbi4 = spd.spectrum.get_species_contribution(\"Pb\")\n",
    "pbi4 += spd.spectrum.get_species_contribution(\"I\")\n",
    "\n",
    "ws2 = spd.spectrum.get_species_contribution(\"W\")\n",
    "ws2 += spd.spectrum.get_species_contribution(\"S\")\n",
    "\n",
    "pea = spd.spectrum.get_species_contribution(\"C\")\n",
    "pea += spd.spectrum.get_species_contribution(\"H\")\n",
    "pea += spd.spectrum.get_species_contribution(\"N\")\n",
    "\n",
    "# we set up a canvas with 2 columns and two rows as grid, making second column three times as wide as the first one\n",
    "fig = plt.figure(constrained_layout=True, figsize=(12, 6))\n",
    "spec = gridspec.GridSpec(ncols=2, nrows=2, figure=fig, width_ratios=[1, 3])\n",
    "\n",
    "# we generate three axes, where the first one spans the entire left column\n",
    "ax1 = fig.add_subplot(spec[:, 0])\n",
    "ax2 = fig.add_subplot(spec[0, 1])\n",
    "ax3 = fig.add_subplot(spec[1, 1])\n",
    "\n",
    "# On the first axes, we draw the contributions we just extracted from the spectrum\n",
    "ax1 = spd.plot_custom_contributions(list_of_contributions=[pbi4, ws2, pea],\n",
    "                                    axes=ax1, # this specifies the axes to draw onto\n",
    "                                    colors=[\"purple\", \"orange\", \"cyan\"], # colors can be strings or hex codes\n",
    "                                    labels=[\"PbI$_4$\", \"WS$_2$\", \"PEA\"], # labels accept latex commands                                    \n",
    "                                    broadening=0.025, # DOS with the tetrahedron method is not broadened, so we apply a broadening of 25 meV\n",
    "                                    window=(-7,-1.3), # We set the energy limits in eV\n",
    "                                   ) \n",
    "\n",
    "# On the second axes, we plot all species, but this time with the energy being the x-axis and the DOS being the y-axis\n",
    "ax2 = spd.plot_all_species(axes=ax2, flip=False, # the default is to \"flip\" the axes, such that the energy is the y-axis\n",
    "                            broadening=0.025)\n",
    "# On the third axes, we plot all angular momenta\n",
    "ax3 = spd.plot_all_angular_momenta(axes=ax3, flip=False, broadening=0.025)\n",
    "plt.show()"
   ]
  }
 ],
 "metadata": {
  "kernelspec": {
   "display_name": "Python 3",
   "language": "python",
   "name": "python3"
  },
  "language_info": {
   "codemirror_mode": {
    "name": "ipython",
    "version": 3
   },
   "file_extension": ".py",
   "mimetype": "text/x-python",
   "name": "python",
   "nbconvert_exporter": "python",
   "pygments_lexer": "ipython3",
   "version": "3.8.5"
  }
 },
 "nbformat": 4,
 "nbformat_minor": 4
}
