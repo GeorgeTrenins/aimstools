{
 "cells": [
  {
   "cell_type": "markdown",
   "metadata": {},
   "source": [
    "# Plotting  Mulliken-Projected Band Structures"
   ]
  },
  {
   "cell_type": "code",
   "execution_count": null,
   "metadata": {},
   "outputs": [],
   "source": [
    "%matplotlib inline\n",
    "# these two lines are only necessary to make the jupyter notebooks run on binder\n",
    "import sys\n",
    "sys.path.insert(0, \"../..\")\n",
    "\n",
    "# We load the respective module\n",
    "from aimstools.bandstructures import MullikenBandStructure as MBS\n",
    "\n",
    "# We initialize the MullikenBandStructure object from a directory.\n",
    "# The bandmlkxxxx.out files can become very large, so reading them in can take up some time.\n",
    "bs = MBS(\"fatbands\", soc=True)"
   ]
  },
  {
   "cell_type": "code",
   "execution_count": null,
   "metadata": {},
   "outputs": [],
   "source": [
    "%matplotlib inline\n",
    "import matplotlib.pyplot as plt \n",
    "\n",
    "# We set up a figure and some axes\n",
    "fig, (ax1, ax2, ax3) = plt.subplots(1, 3, figsize=(15,5))\n",
    "\n",
    "# On the first one, we draw just the band structure, in this case with spin-orbit coupling:\n",
    "ax1 = bs.plot(axes=ax1, color=\"royalblue\")\n",
    "ax1.set_title(\"Band Structure with SOC\")\n",
    "\n",
    "# On the second one, we draw the contribution of all species overlaid:\n",
    "ax2 = bs.plot_all_species(axes=ax2)\n",
    "ax2.set_ylabel(\"\")\n",
    "ax2.set_yticks([])\n",
    "ax2.set_title(\"Projection on species\")\n",
    "\n",
    "# On the third one, we draw the difference of the contributions as a gradient:\n",
    "ax3 = bs.plot_difference_contribution(\"Mo\", \"Se\", axes=ax3)\n",
    "ax3.set_ylabel(\"\")\n",
    "ax3.set_yticks([])\n",
    "ax3.set_title(\"Projection on contribution difference\")\n",
    "plt.show()"
   ]
  },
  {
   "cell_type": "code",
   "execution_count": null,
   "metadata": {},
   "outputs": [],
   "source": [
    "# Mulliken band structures typically need some customization to make them look good.\n",
    "# You have many options to choose how to plot the mulliken band structure.\n",
    "\n",
    "%matplotlib inline\n",
    "import matplotlib.pyplot as plt \n",
    "\n",
    "# We set up a figure and some axes\n",
    "fig, (ax1, ax2, ax3) = plt.subplots(1, 3, figsize=(15,5))\n",
    "\n",
    "# We can plot the contributions as a sequential or continuous color map.\n",
    "# A sequential map is less cluttered and often more readable when many species are involved.\n",
    "# But, it hides a lot of information.\n",
    "# Compare this representation to the gradient representation: \n",
    "# It becomes more clear which parts of the bands belong to which atom, \n",
    "# but in reality, this cannot be assigned as exactly as is suggested by this figure.\n",
    "ax1 = bs.plot_majority_contribution(axes=ax1, colors=[\"red\", \"blue\"])\n",
    "ax1.set_title(\"Majority contribution\")\n",
    "\n",
    "# On the other hand side, for orbitals this representation is recommended:\n",
    "ax2 = bs.plot_all_angular_momenta(axes=ax2)\n",
    "ax2.set_title(\"Angular momenta\")\n",
    "ax2.set_ylabel(\"\")\n",
    "ax2.set_yticks([])\n",
    "\n",
    "# Alternatively, you can also choose a scattered representation.\n",
    "# It simply depends on your system which representation looks best.\n",
    "ax3 = bs.plot_contributions(contributions=\"Mo\", axes=ax3, mode=\"scatter\", color=\"blue\", interpolate=True)\n",
    "ax3.set_ylabel(\"\")\n",
    "ax3.set_yticks([])\n",
    "ax3.set_title(\"Scatter mode\")\n",
    "plt.show()"
   ]
  },
  {
   "cell_type": "code",
   "execution_count": null,
   "metadata": {},
   "outputs": [],
   "source": [
    "%matplotlib inline\n",
    "import matplotlib.pyplot as plt \n",
    "from aimstools.bandstructures import MullikenBandStructure as MBS\n",
    "\n",
    "# A more complicated example is shown here\n",
    "\n",
    "bs = MBS(\"larger_fatbands\")\n",
    "\n",
    "contributions = [(\"CH\", \"tot\"), \"O\", \"N\"]\n",
    "colors = [\"black\", \"red\", \"blue\"]\n",
    "\n",
    "bs.plot_contributions(contributions=contributions,\n",
    "                     colors=colors,\n",
    "                     window=6,\n",
    "                     bandpath=\"NGM,XGY,LGZ\",\n",
    "                     y_tick_locator=1.0,\n",
    "                     show_bandgap_vertices=False,\n",
    "                     mode=\"majority\",\n",
    "                     show_colorbar=True,\n",
    "                     interpolate=True)"
   ]
  }
 ],
 "metadata": {
  "kernelspec": {
   "display_name": "Python 3 (ipykernel)",
   "language": "python",
   "name": "python3"
  },
  "language_info": {
   "codemirror_mode": {
    "name": "ipython",
    "version": 3
   },
   "file_extension": ".py",
   "mimetype": "text/x-python",
   "name": "python",
   "nbconvert_exporter": "python",
   "pygments_lexer": "ipython3",
   "version": "3.9.7"
  }
 },
 "nbformat": 4,
 "nbformat_minor": 4
}
