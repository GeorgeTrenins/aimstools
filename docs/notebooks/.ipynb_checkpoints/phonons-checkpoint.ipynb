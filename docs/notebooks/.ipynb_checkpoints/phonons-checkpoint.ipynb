{
 "cells": [
  {
   "cell_type": "markdown",
   "id": "wound-discretion",
   "metadata": {},
   "source": [
    "# Plotting Phonons"
   ]
  },
  {
   "cell_type": "code",
   "execution_count": null,
   "id": "signal-speech",
   "metadata": {},
   "outputs": [],
   "source": [
    "%matplotlib inline\n",
    "# these two lines are only necessary to make the jupyter notebooks run on binder\n",
    "import sys\n",
    "sys.path.insert(0, \"../..\")\n",
    "\n",
    "# We load the FHIVibesPhonons class from aimstools\n",
    "from aimstools.phonons import FHIVibesPhonons as FVP\n",
    "import matplotlib.pyplot as plt\n",
    "\n",
    "# We initialize this class from results in the directory \"bandstructure\"\n",
    "phon = FVP(\"phonons\")\n",
    "\n",
    "# We set up a figure\n",
    "import matplotlib.pyplot as plt\n",
    "from matplotlib import gridspec\n",
    "\n",
    "fig = plt.figure(constrained_layout=True, figsize=(8, 6))\n",
    "spec = gridspec.GridSpec(ncols=2, nrows=1, figure=fig, width_ratios=[3, 1])\n",
    "\n",
    "ax1 = fig.add_subplot(spec[0])\n",
    "ax1 = phon.plot(axes=ax1, show_acoustic_bands=True, unit=r\"cm$^{-1}$\")\n",
    "ax1.set_ylim([0, 600])\n",
    "\n",
    "ax2 = fig.add_subplot(spec[1])\n",
    "ax2 = phon.plot_dos(axes=ax2)\n",
    "ax2.set_ylabel(\"\")\n",
    "ax2.set_yticks([])\n",
    "ax2.set_ylim([0, 600])\n",
    "\n",
    "# Here are some tools to analyze the modes\n",
    "gf = phon.get_gamma_point_frequencies()\n",
    "sg, reps = phon.get_irreducible_representations()\n",
    "print(\"Space group: \", sg)\n",
    "for indices, label in reps:\n",
    "    freqs = [\"{:.3f}\".format(gf[i]) for i in indices]\n",
    "    freqs = \", \".join(freqs)\n",
    "    print(freqs, label)   "
   ]
  }
 ],
 "metadata": {
  "kernelspec": {
   "display_name": "Python 3",
   "language": "python",
   "name": "python3"
  },
  "language_info": {
   "codemirror_mode": {
    "name": "ipython",
    "version": 3
   },
   "file_extension": ".py",
   "mimetype": "text/x-python",
   "name": "python",
   "nbconvert_exporter": "python",
   "pygments_lexer": "ipython3",
   "version": "3.9.1"
  }
 },
 "nbformat": 4,
 "nbformat_minor": 5
}
