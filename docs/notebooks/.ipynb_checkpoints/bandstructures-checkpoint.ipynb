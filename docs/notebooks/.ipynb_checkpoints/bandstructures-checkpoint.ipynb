{
 "cells": [
  {
   "cell_type": "markdown",
   "metadata": {},
   "source": [
    "# Plotting Band Structures"
   ]
  },
  {
   "cell_type": "code",
   "execution_count": null,
   "metadata": {},
   "outputs": [],
   "source": [
    "%matplotlib inline\n",
    "# these two lines are only necessary to make the jupyter notebooks run on binder\n",
    "import sys\n",
    "sys.path.insert(0, \"../..\")\n",
    "\n",
    "# We load the BandStructure class from aimstools\n",
    "from aimstools import BandStructure\n",
    "\n",
    "# We initialize this class from results in the directory \"bandstructure\"\n",
    "bs = BandStructure(\"bandstructure\")\n",
    "\n",
    "# The BandStructure class is only a wrapper that gives you easy access to the underlying classes.\n",
    "# You can access an information overview with:\n",
    "bs.get_properties()\n",
    "# The plot() method is a quick way to visualize everything, but cannot be customized as much.\n",
    "bs.plot()"
   ]
  },
  {
   "cell_type": "code",
   "execution_count": null,
   "metadata": {},
   "outputs": [],
   "source": [
    "# If you want to customize the plot, you need to access the subclasses where the information is actually stored:\n",
    "bs_zora = bs.bandstructure_zora\n",
    "bs_soc = bs.bandstructure_soc\n",
    "\n",
    "# ZORA and SOC band structures are typically overlaid. This can easily be done this way:\n",
    "import matplotlib.pyplot as plt\n",
    "from matplotlib.lines import Line2D\n",
    "\n",
    "fig, axes = plt.subplots(1,1, figsize=(5,5))\n",
    "# The main attribute specifies which plot is the most important one, such that gridlines and \n",
    "# the Fermi level are only drawn once. In many cases, this option is not needed.\n",
    "axes = bs_zora.plot(axes=axes, color=\"gray\", alpha=0.5, main=False)\n",
    "axes = bs_soc.plot(axes=axes, color=\"royalblue\", main=True, linestyle=\":\")\n",
    "handles = []\n",
    "handles.append(Line2D([0], [0], color=\"gray\", label=\"ZORA\", lw=1.5))\n",
    "handles.append(Line2D([0], [0], color=\"royalblue\", label=\"ZORA+SOC\", lw=1.5))\n",
    "lgd = axes.legend(\n",
    "    handles=handles,\n",
    "    frameon=True,\n",
    "    fancybox=False,\n",
    "    borderpad=0.4,\n",
    "    loc=\"upper right\",\n",
    ")\n",
    "plt.show()"
   ]
  },
  {
   "cell_type": "code",
   "execution_count": null,
   "metadata": {},
   "outputs": [],
   "source": [
    "# The band structure objects have a lot of possible arguments. To summarize:\n",
    "\n",
    "arguments= {\n",
    "        \"figsize\":(5,5),  # specifies a figsize, if not specified by another axes object\n",
    "        \"filename\":None,  # saves figure to file with filename\n",
    "        \"title\":None,     # adds title to the plot\n",
    "        \"bandpath\":None,  # changes bandpath, e.g. \"GXWKWXG\"\n",
    "        \"spin\":None,      # shows one spin channel (if available), e.g. \"up\" or \"dn\"\n",
    "        \"reference\":None, # changes the reference energy, e.g., \"VBM\", \"middle\", \"fermi level\". The default is chosen depending on the band gap of the system.\n",
    "        \"window\":None,    # energy window to show in eV, can be a single number, e.g., 5, or a pair, like (-5,5)\n",
    "        \"mark_fermi_level\":\"crimson\", # marks the fermi level with the color \"crimson\", can also be None\n",
    "        \"mark_gap\":True,  # marks the direct and indirect gap, if existing, in the band structure\n",
    "}\n",
    "\n",
    "# For example:\n",
    "axes = bs_soc.plot(figsize = (6,4),\n",
    "            color=\"darkblue\",\n",
    "            linewidth=1.5,\n",
    "            title=\"example\", \n",
    "            bandpath=\"KGLGK,UX,XGX\",\n",
    "            reference=\"VBM\")\n",
    "plt.show()"
   ]
  },
  {
   "cell_type": "code",
   "execution_count": null,
   "metadata": {},
   "outputs": [],
   "source": [
    "%matplotlib inline\n",
    "\n",
    "# The most common task is to show bandstructures and densities of states side by side.\n",
    "# With these tools, that is very easy:\n",
    "\n",
    "from aimstools.bandstructures import RegularBandStructure\n",
    "from aimstools.density_of_states import SpeciesProjectedDOS\n",
    "\n",
    "bs1 = RegularBandStructure(\"bandstructure\", soc=False)\n",
    "bs2 = RegularBandStructure(\"bandstructure\", soc=True)\n",
    "dos = SpeciesProjectedDOS(\"bandstructure\", soc=True)\n",
    "\n",
    "import matplotlib.pyplot as plt\n",
    "from matplotlib import gridspec\n",
    "\n",
    "fig = plt.figure(constrained_layout=True, figsize=(8, 6))\n",
    "spec = gridspec.GridSpec(ncols=2, nrows=1, figure=fig, width_ratios=[3, 1])\n",
    "\n",
    "ax1 = fig.add_subplot(spec[0])\n",
    "ax1 = bs1.plot(axes=ax1, color=\"gray\", main=False)\n",
    "ax1 = bs2.plot(axes=ax1, color=\"royalblue\", main=True)\n",
    "\n",
    "# The options to plot DOS are discussed in another tutorial. Here, we just plot all species.\n",
    "ax2 = fig.add_subplot(spec[1])\n",
    "ax2 = dos.plot_all_species(axes=ax2)\n",
    "\n",
    "ax2.set_yticks([])\n",
    "ax2.set_ylabel(\"\")\n",
    "fig.suptitle(\"Band structure + DOS\")\n",
    "plt.show()"
   ]
  }
 ],
 "metadata": {
  "kernelspec": {
   "display_name": "Python 3",
   "language": "python",
   "name": "python3"
  },
  "language_info": {
   "codemirror_mode": {
    "name": "ipython",
    "version": 3
   },
   "file_extension": ".py",
   "mimetype": "text/x-python",
   "name": "python",
   "nbconvert_exporter": "python",
   "pygments_lexer": "ipython3",
   "version": "3.8.5"
  }
 },
 "nbformat": 4,
 "nbformat_minor": 4
}
