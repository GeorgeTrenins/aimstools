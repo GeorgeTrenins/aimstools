{
 "cells": [
  {
   "cell_type": "markdown",
   "metadata": {},
   "source": [
    "# Plotting  Mulliken-Projected Band Structures"
   ]
  },
  {
   "cell_type": "code",
   "execution_count": null,
   "metadata": {},
   "outputs": [],
   "source": [
    "%matplotlib inline\n",
    "# these two lines are only necessary to make the jupyter notebooks run on binder\n",
    "import sys\n",
    "sys.path.insert(0, \"../..\")\n",
    "\n",
    "# We load the respective module\n",
    "from aimstools.bandstructures import MullikenBandStructure as mbs\n",
    "\n",
    "# We initialize the MullikenBandStructure object from a directory.\n",
    "# The bandmlkxxxx.out files can become very large, so reading them in can take up some time.\n",
    "bs = mbs(\"fatbands\", soc=True)"
   ]
  },
  {
   "cell_type": "code",
   "execution_count": null,
   "metadata": {},
   "outputs": [],
   "source": [
    "%matplotlib inline\n",
    "import matplotlib.pyplot as plt \n",
    "\n",
    "# We set up a figure and some axes\n",
    "fig, (ax1, ax2, ax3) = plt.subplots(1, 3, figsize=(15,5))\n",
    "\n",
    "# On the first one, we draw just the band structure, in this case with spin-orbit coupling:\n",
    "ax1 = bs.plot(axes=ax1, color=\"royalblue\")\n",
    "ax1.set_title(\"Band Structure with SOC\")\n",
    "\n",
    "# On the second one, we draw the contribution of all species overlaid:\n",
    "ax2 = bs.plot_all_species(axes=ax2)\n",
    "ax2.set_ylabel(\"\")\n",
    "ax2.set_yticks([])\n",
    "ax2.set_title(\"Projection on species\")\n",
    "\n",
    "# On the third one, we draw the difference of the contributions as a gradient:\n",
    "Mo = bs.spectrum.get_species_contribution(\"Mo\")\n",
    "Se = bs.spectrum.get_species_contribution(\"Se\")\n",
    "ax3 = bs.plot_gradient_contributions(Mo, Se, axes=ax3)\n",
    "ax3.set_ylabel(\"\")\n",
    "ax3.set_yticks([])\n",
    "ax3.set_title(\"Projection on contribution difference\")\n",
    "plt.show()"
   ]
  },
  {
   "cell_type": "code",
   "execution_count": null,
   "metadata": {},
   "outputs": [],
   "source": [
    "# Mulliken band structures typically need some customization to make them look good.\n",
    "# You have many options to choose how to plot the mulliken band structure.\n",
    "\n",
    "%matplotlib inline\n",
    "import matplotlib.pyplot as plt \n",
    "\n",
    "# We set up a figure and some axes\n",
    "fig, (ax1, ax2, ax3) = plt.subplots(1, 3, figsize=(15,5))\n",
    "\n",
    "# We can plot the contributions as a sequential or continuous color map. A sequential map is less cluttered and \n",
    "# often more readable when many species are involved, but hides a lot of information.\n",
    "# Compare this representation to the gradient representation: It becomes more clear which parts of the bands belong\n",
    "# to which atom, but in reality, this cannot be assigned as exactly as is suggested by this figure.\n",
    "ax1 = bs.plot_majority_contributions(axes=ax1, colors=[\"red\", \"blue\"])\n",
    "ax1.set_title(\"Majority contribution\")\n",
    "\n",
    "# On the other hand side, for orbitals this representation is recommended:\n",
    "ax2 = bs.plot_all_angular_momenta(axes=ax2)\n",
    "ax2.set_title(\"Angular momenta\")\n",
    "ax2.set_ylabel(\"\")\n",
    "ax2.set_yticks([])\n",
    "\n",
    "# Alternatively, you can also choose a scattered representation. It simply depends on your system which representation looks best.\n",
    "ax3 = bs.plot_one_species(\"Mo\", axes=ax3, mode=\"scatter\", color=\"blue\")\n",
    "ax3.set_ylabel(\"\")\n",
    "ax3.set_yticks([])\n",
    "ax3.set_title(\"Scatter mode\")\n",
    "plt.show()"
   ]
  }
 ],
 "metadata": {
  "kernelspec": {
   "display_name": "Python 3",
   "language": "python",
   "name": "python3"
  },
  "language_info": {
   "codemirror_mode": {
    "name": "ipython",
    "version": 3
   },
   "file_extension": ".py",
   "mimetype": "text/x-python",
   "name": "python",
   "nbconvert_exporter": "python",
   "pygments_lexer": "ipython3",
   "version": "3.8.5"
  }
 },
 "nbformat": 4,
 "nbformat_minor": 4
}
